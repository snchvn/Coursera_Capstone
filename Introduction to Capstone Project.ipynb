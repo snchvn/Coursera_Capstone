{
    "cells": [
        {
            "cell_type": "markdown",
            "metadata": {},
            "source": "# Moving to Portugal, which city has the best cafes?"
        },
        {
            "cell_type": "markdown",
            "metadata": {},
            "source": "## Table of Contents"
        },
        {
            "cell_type": "markdown",
            "metadata": {},
            "source": "#### 1 - Introduction\n#### 2 - Data\n#### 3 - Methodology"
        },
        {
            "cell_type": "markdown",
            "metadata": {},
            "source": "\n## 1 - Introduction"
        },
        {
            "cell_type": "markdown",
            "metadata": {},
            "source": "I have lived all my life in London, but I am looking to move away from the stresses of big city life and find a new place to live in Portugal. Before I make the jump I would like to do some research on the areas I could be moving to. Because I love coffee, the highest priority to know is which city has the best cafes?\n\nAlong with the best cafes I can also find out the statistical data of neighborhoods in the cities and compare them to see where the lowest crime rates, best education and best bars are."
        },
        {
            "cell_type": "markdown",
            "metadata": {},
            "source": "## 2 - Data"
        },
        {
            "cell_type": "markdown",
            "metadata": {},
            "source": "Using the Foursquare API we will collect data about the four largest cities in Portugal; Lisbon, Porto, Amadora and Braga.\n\nWe will need data about different cafes in different cities. In order to gain that information we will use \"Foursquare\" locational information. Foursquare is a location data provider with information about all manner of venues and events within an area of interest. Such information includes venue names, locations, menus and even photos. As such, the foursquare location platform will be used as the sole data source since all the stated required information can be obtained through the API.\n\nAfter finding the list of neighbourhoods, we then connect to the Foursquare API to gather information about cafes inside each and every City.\n\nThe data retrieved from Foursquare contained information of venues within a specified distance of the longitude and latitude of the postcodes. The information obtained per venue are as follows: Venue, Name of Venue, Venue Latitude, Venue Longitude, and Venue Category.\n"
        },
        {
            "cell_type": "markdown",
            "metadata": {},
            "source": "## 3 - Methodology"
        },
        {
            "cell_type": "markdown",
            "metadata": {},
            "source": "My main target here is to assess which city would have the highest rated cafes and sum of highly rated cafes. I used the Four Square API through the venues channel. I used the near query to get venues in the cities. Also, I use the CategoryID to set it to show only cafes. An Example of the request would be\n\"https://api.foursquare.com/v2/venues/explore?&client_id=&client_secret=&v=20200505&Lisbon,PO&limit=100&categoryId=\u2019CafeCategoryID\u2019`\n\nI need to find the Category Id to place in the query. Also, Foursquare limits us to maximum of 100 venues per query. Moreover, I repeated this request for the 5 studied cities and got their top 100 venues. I saved the name and coordinate data only from the result and plotted them on the map for visual inspection. \n\nWith all that information we can calculate the center of all the coordinates of restuarants in each city and we can assume this is the mean center of the city. Then we calculate the mean Euclidean distance from each value to the center of the city. That way we have an indicator of which city has the highest density of cafes."
        },
        {
            "cell_type": "code",
            "execution_count": null,
            "metadata": {},
            "outputs": [],
            "source": ""
        }
    ],
    "metadata": {
        "kernelspec": {
            "display_name": "Python",
            "language": "python",
            "name": "conda-env-python-py"
        },
        "language_info": {
            "codemirror_mode": {
                "name": "ipython",
                "version": 3
            },
            "file_extension": ".py",
            "mimetype": "text/x-python",
            "name": "python",
            "nbconvert_exporter": "python",
            "pygments_lexer": "ipython3",
            "version": "3.6.10"
        }
    },
    "nbformat": 4,
    "nbformat_minor": 4
}